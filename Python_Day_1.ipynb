{
  "nbformat": 4,
  "nbformat_minor": 0,
  "metadata": {
    "colab": {
      "provenance": [],
      "authorship_tag": "ABX9TyPZRE/rIGHuiQ5mLGzDiyY/",
      "include_colab_link": true
    },
    "kernelspec": {
      "name": "python3",
      "display_name": "Python 3"
    },
    "language_info": {
      "name": "python"
    }
  },
  "cells": [
    {
      "cell_type": "markdown",
      "metadata": {
        "id": "view-in-github",
        "colab_type": "text"
      },
      "source": [
        "<a href=\"https://colab.research.google.com/github/Tanpopo26/Python-1/blob/main/Python_Day_1.ipynb\" target=\"_parent\"><img src=\"https://colab.research.google.com/assets/colab-badge.svg\" alt=\"Open In Colab\"/></a>"
      ]
    },
    {
      "cell_type": "markdown",
      "source": [
        "1. Print name & age\n"
      ],
      "metadata": {
        "id": "ThjWoDVNTcc-"
      }
    },
    {
      "cell_type": "code",
      "source": [
        "name = \"Tanziba\"\n",
        "age = 23\n",
        "'''This code will print my name & age'''\n",
        "print(\"my name is\", name , \"and my age is\", age)"
      ],
      "metadata": {
        "colab": {
          "base_uri": "https://localhost:8080/"
        },
        "id": "P0arvmu3YWxt",
        "outputId": "d0e497ba-c899-4f2f-acc2-55bb40edb54f"
      },
      "execution_count": null,
      "outputs": [
        {
          "output_type": "stream",
          "name": "stdout",
          "text": [
            "my name is Tanziba and my age is 23\n"
          ]
        }
      ]
    },
    {
      "cell_type": "markdown",
      "source": [
        "2. Favorite number in a variable"
      ],
      "metadata": {
        "id": "saU9pBCCTpTL"
      }
    },
    {
      "cell_type": "code",
      "source": [
        "number = 16269\n",
        "'''This code will print a number,\n",
        "which is a combination of my family's birth days'''\n",
        "print(\"my favorite numbers are:\", number)"
      ],
      "metadata": {
        "colab": {
          "base_uri": "https://localhost:8080/"
        },
        "id": "QC0gYz17UyH5",
        "outputId": "50b34bf9-cae9-45e6-8138-de5e48bcc92c"
      },
      "execution_count": null,
      "outputs": [
        {
          "output_type": "stream",
          "name": "stdout",
          "text": [
            "my favorite numbers are: 16269\n"
          ]
        }
      ]
    },
    {
      "cell_type": "markdown",
      "source": [
        "3. Add 2 numbers"
      ],
      "metadata": {
        "id": "wsOvpN1gVmXV"
      }
    },
    {
      "cell_type": "code",
      "source": [
        "T, O = 2, 6\n",
        "print(\"The sum of 2 & 6 is =\", T + O)\n",
        "\n",
        "T = 1\n",
        "O = 9\n",
        "print(\"The sum of 1 & 9 is =\", T + O)"
      ],
      "metadata": {
        "colab": {
          "base_uri": "https://localhost:8080/"
        },
        "id": "nkl7M0SpV-eL",
        "outputId": "9bff794f-1205-431b-c499-ceb1b8004f67"
      },
      "execution_count": null,
      "outputs": [
        {
          "output_type": "stream",
          "name": "stdout",
          "text": [
            "The sum of 2 & 6 is = 8\n",
            "The sum of 1 & 9 is = 10\n"
          ]
        }
      ]
    }
  ]
}