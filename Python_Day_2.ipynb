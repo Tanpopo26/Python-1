{
  "nbformat": 4,
  "nbformat_minor": 0,
  "metadata": {
    "colab": {
      "provenance": [],
      "authorship_tag": "ABX9TyPLRdoIFnqRolVwhCPJifH/",
      "include_colab_link": true
    },
    "kernelspec": {
      "name": "python3",
      "display_name": "Python 3"
    },
    "language_info": {
      "name": "python"
    }
  },
  "cells": [
    {
      "cell_type": "markdown",
      "metadata": {
        "id": "view-in-github",
        "colab_type": "text"
      },
      "source": [
        "<a href=\"https://colab.research.google.com/github/Tanpopo26/Python-1/blob/main/Python_Day_2.ipynb\" target=\"_parent\"><img src=\"https://colab.research.google.com/assets/colab-badge.svg\" alt=\"Open In Colab\"/></a>"
      ]
    },
    {
      "cell_type": "markdown",
      "source": [
        "1. Ask the user for their birth year and calculate their age"
      ],
      "metadata": {
        "id": "Ki8euvsmKjaT"
      }
    },
    {
      "cell_type": "code",
      "source": [
        "birth_year = int(input(\"Enter your birth year: \"))\n",
        "age = 2025 - birth_year\n",
        "print(\"Your age is:\", age)\n",
        "print(type(age))"
      ],
      "metadata": {
        "colab": {
          "base_uri": "https://localhost:8080/"
        },
        "id": "PHugdPMzKrEj",
        "outputId": "fccd89d0-7552-4d36-dfaf-41e6cfbb99ff"
      },
      "execution_count": null,
      "outputs": [
        {
          "output_type": "stream",
          "name": "stdout",
          "text": [
            "Enter your birth year: 2002\n",
            "Your age is: 23\n",
            "<class 'int'>\n"
          ]
        }
      ]
    },
    {
      "cell_type": "markdown",
      "source": [
        "2. Convert a float number to an integer and print both values."
      ],
      "metadata": {
        "id": "y79o7Q_wLcDv"
      }
    },
    {
      "cell_type": "code",
      "source": [
        "x = 123.456\n",
        "print(\"This is a floating point number:\", x)\n",
        "print(type(x))\n",
        "\n",
        "# converting float number to integar\n",
        "\n",
        "x = int(x)\n",
        "print(\"This is an integar number:\", x)\n",
        "print(type(x))"
      ],
      "metadata": {
        "colab": {
          "base_uri": "https://localhost:8080/"
        },
        "id": "v1UZdWvqLkG6",
        "outputId": "a4ba72c1-56ef-4565-9059-08cbf4a9d7e1"
      },
      "execution_count": null,
      "outputs": [
        {
          "output_type": "stream",
          "name": "stdout",
          "text": [
            "This is a floating point number: 123.456\n",
            "<class 'float'>\n",
            "This is an integar number: 123\n",
            "<class 'int'>\n"
          ]
        }
      ]
    },
    {
      "cell_type": "markdown",
      "source": [
        "3. Write a program that asks for two numbers and prints their product"
      ],
      "metadata": {
        "id": "beu4WeyljXyL"
      }
    },
    {
      "cell_type": "code",
      "source": [
        "number_1 = int(input(\"Enter number 1: \"))\n",
        "number_2 = int(input(\"Enter number 2: \"))\n",
        "product = number_1 * number_2\n",
        "print(number_1, \"x\", number_2, \"=\", product)"
      ],
      "metadata": {
        "colab": {
          "base_uri": "https://localhost:8080/"
        },
        "id": "PWDIGzodlHOB",
        "outputId": "f9b3e182-886d-4539-8f53-ec62c8dac65d"
      },
      "execution_count": null,
      "outputs": [
        {
          "output_type": "stream",
          "name": "stdout",
          "text": [
            "Enter number 1: 2\n",
            "Enter number 2: 87\n",
            "2 x 87 = 174\n"
          ]
        }
      ]
    },
    {
      "cell_type": "markdown",
      "source": [
        "4. Create a variable is_python_fun with a boolean value and print it.\n",
        "\n"
      ],
      "metadata": {
        "id": "aTUoE6fok73e"
      }
    },
    {
      "cell_type": "code",
      "source": [
        "is_python_fun = True\n",
        "\n",
        "print(bool(is_python_fun))\n",
        "print(type(is_python_fun))"
      ],
      "metadata": {
        "colab": {
          "base_uri": "https://localhost:8080/"
        },
        "id": "y1sBD446lHww",
        "outputId": "c85442f7-faf4-4e8c-973c-41700f7f0aad"
      },
      "execution_count": null,
      "outputs": [
        {
          "output_type": "stream",
          "name": "stdout",
          "text": [
            "True\n",
            "<class 'bool'>\n"
          ]
        }
      ]
    }
  ]
}