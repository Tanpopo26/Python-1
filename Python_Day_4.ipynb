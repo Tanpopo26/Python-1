{
  "nbformat": 4,
  "nbformat_minor": 0,
  "metadata": {
    "colab": {
      "provenance": [],
      "authorship_tag": "ABX9TyPReZV1TDGWRNBK1PxJSO0B",
      "include_colab_link": true
    },
    "kernelspec": {
      "name": "python3",
      "display_name": "Python 3"
    },
    "language_info": {
      "name": "python"
    }
  },
  "cells": [
    {
      "cell_type": "markdown",
      "metadata": {
        "id": "view-in-github",
        "colab_type": "text"
      },
      "source": [
        "<a href=\"https://colab.research.google.com/github/Tanpopo26/Python-1/blob/main/Python_Day_4.ipynb\" target=\"_parent\"><img src=\"https://colab.research.google.com/assets/colab-badge.svg\" alt=\"Open In Colab\"/></a>"
      ]
    },
    {
      "cell_type": "markdown",
      "source": [
        "1. Take a string input and print the first and last characters."
      ],
      "metadata": {
        "id": "RiCtt2QNVolt"
      }
    },
    {
      "cell_type": "code",
      "source": [
        "string_input = \"JAPAN\"\n",
        "print(f\"The first chaaracter is {string_input[0]}\")\n",
        "print(f\"The last character is {string_input[-1]}\")"
      ],
      "metadata": {
        "colab": {
          "base_uri": "https://localhost:8080/"
        },
        "id": "wJLcizVKWPWH",
        "outputId": "faa63817-d991-4f55-8320-14ac860bcffa"
      },
      "execution_count": null,
      "outputs": [
        {
          "output_type": "stream",
          "name": "stdout",
          "text": [
            "The first chaaracter is J\n",
            "The last character is N\n"
          ]
        }
      ]
    },
    {
      "cell_type": "markdown",
      "source": [
        "2. Write a program to reverse a string using slicing."
      ],
      "metadata": {
        "id": "p3eRiOlqVvOM"
      }
    },
    {
      "cell_type": "code",
      "source": [
        "word = \"BANGLADESH\"\n",
        "print(f\"First 6 characters: {word[0:6]}\")\n",
        "print(f\"Last 4 characters: {word[6:]}\")"
      ],
      "metadata": {
        "colab": {
          "base_uri": "https://localhost:8080/"
        },
        "id": "F1PimkjJYDSO",
        "outputId": "c1420576-15d0-4321-8173-d504ff95ca67"
      },
      "execution_count": null,
      "outputs": [
        {
          "output_type": "stream",
          "name": "stdout",
          "text": [
            "First 6 characters: BANGLA\n",
            "Last 4 characters: DESH\n"
          ]
        }
      ]
    },
    {
      "cell_type": "code",
      "source": [
        "word = input(\"Enter any word here: \")\n",
        "print(f\"The reversed word is: {word[::-1]}\")"
      ],
      "metadata": {
        "colab": {
          "base_uri": "https://localhost:8080/"
        },
        "id": "IQsZSjm-8ZlC",
        "outputId": "ea5c8294-cf08-44d9-a29b-a904a1397176"
      },
      "execution_count": null,
      "outputs": [
        {
          "output_type": "stream",
          "name": "stdout",
          "text": [
            "Enter any word here: Bangladesh\n",
            "The reversed word is: hsedalgnaB\n"
          ]
        }
      ]
    },
    {
      "cell_type": "markdown",
      "source": [
        "3. Count how many times the letter a appears in a string."
      ],
      "metadata": {
        "id": "CmW5K9vfV5y3"
      }
    },
    {
      "cell_type": "code",
      "source": [
        "user_data = input(\"Enter any word: \")\n",
        "print(f\"The letter 'a' appears: {user_data.count(\"a\")} times\")"
      ],
      "metadata": {
        "colab": {
          "base_uri": "https://localhost:8080/"
        },
        "id": "c0E-zp_vqrq1",
        "outputId": "7c4e5277-9eb9-4781-bc81-8c01d428ac79"
      },
      "execution_count": null,
      "outputs": [
        {
          "output_type": "stream",
          "name": "stdout",
          "text": [
            "Enter any word: uyreshqa\n",
            "The letter 'a' appears: 1 times\n"
          ]
        }
      ]
    },
    {
      "cell_type": "markdown",
      "source": [
        "4. Ask the user for their full name and print it in uppercase."
      ],
      "metadata": {
        "id": "73rtpINyWA5y"
      }
    },
    {
      "cell_type": "code",
      "source": [
        "user_data = input('Enter your full name here: ')\n",
        "print(f\"User's name in uppercase {user_data.upper()}\")"
      ],
      "metadata": {
        "colab": {
          "base_uri": "https://localhost:8080/"
        },
        "id": "GWR7_iFfqrP0",
        "outputId": "42ae335c-a11d-48d5-d987-fbea63d6b805"
      },
      "execution_count": null,
      "outputs": [
        {
          "output_type": "stream",
          "name": "stdout",
          "text": [
            "Enter your full name here: orthy\n",
            "User's name in uppercase ORTHY\n"
          ]
        }
      ]
    },
    {
      "cell_type": "markdown",
      "source": [
        "5. Format a string to display: “My favorite subject is ___ and I am ___ years old.”"
      ],
      "metadata": {
        "id": "O0-lelo5WIJF"
      }
    },
    {
      "cell_type": "code",
      "source": [
        "user_input_subject = input(\"Enter your favorite subject: \")\n",
        "user_input_age = int(input(\"Enter your age: \"))\n",
        "print(f\"My favorite subject is {user_input_subject} and I am {user_input_age} years old.\")"
      ],
      "metadata": {
        "colab": {
          "base_uri": "https://localhost:8080/"
        },
        "id": "yZPO8ktMqsEc",
        "outputId": "d9cf4f7d-b3b8-47e6-a32e-2ed34cdd8eee"
      },
      "execution_count": null,
      "outputs": [
        {
          "output_type": "stream",
          "name": "stdout",
          "text": [
            "Enter your favorite subject: pathology\n",
            "Enter your age: 23\n",
            "My favorite subject is pathology and I am 23 years old.\n"
          ]
        }
      ]
    }
  ]
}