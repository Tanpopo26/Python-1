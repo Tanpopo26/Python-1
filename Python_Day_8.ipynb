{
  "nbformat": 4,
  "nbformat_minor": 0,
  "metadata": {
    "colab": {
      "provenance": [],
      "authorship_tag": "ABX9TyMp3IQkVIFVBPOuu4UbbBVM",
      "include_colab_link": true
    },
    "kernelspec": {
      "name": "python3",
      "display_name": "Python 3"
    },
    "language_info": {
      "name": "python"
    }
  },
  "cells": [
    {
      "cell_type": "markdown",
      "metadata": {
        "id": "view-in-github",
        "colab_type": "text"
      },
      "source": [
        "<a href=\"https://colab.research.google.com/github/Tanpopo26/Python-1/blob/main/Python_Day_8.ipynb\" target=\"_parent\"><img src=\"https://colab.research.google.com/assets/colab-badge.svg\" alt=\"Open In Colab\"/></a>"
      ]
    },
    {
      "cell_type": "markdown",
      "source": [
        "1. Write a function that takes two numbers and returns their product."
      ],
      "metadata": {
        "id": "v3X4mTw-uF4S"
      }
    },
    {
      "cell_type": "code",
      "source": [
        "def product(a, b):\n",
        "  return a * b\n",
        "print(product(26, 23))"
      ],
      "metadata": {
        "colab": {
          "base_uri": "https://localhost:8080/"
        },
        "id": "Vj6K8aE4sOkH",
        "outputId": "5033ef0a-e88c-43ab-eb9d-acb9dfc9242c"
      },
      "execution_count": null,
      "outputs": [
        {
          "output_type": "stream",
          "name": "stdout",
          "text": [
            "598\n"
          ]
        }
      ]
    },
    {
      "cell_type": "markdown",
      "source": [
        "2. Write a function to check if a number is even or odd"
      ],
      "metadata": {
        "id": "FDfp08jTuOgH"
      }
    },
    {
      "cell_type": "code",
      "source": [
        "def is_even_or_odd(number):\n",
        "  if number % 2 == 0:\n",
        "    return \"Even\"\n",
        "  else:\n",
        "    return \"Odd\"\n",
        "\n",
        "print(is_even_or_odd(33))"
      ],
      "metadata": {
        "colab": {
          "base_uri": "https://localhost:8080/"
        },
        "id": "KOPX2jGpuQMn",
        "outputId": "fe1db6bd-3f27-4dd4-f34b-77526c55e974"
      },
      "execution_count": null,
      "outputs": [
        {
          "output_type": "stream",
          "name": "stdout",
          "text": [
            "Odd\n"
          ]
        }
      ]
    },
    {
      "cell_type": "markdown",
      "source": [
        "3. Create a function with a default parameter that calculates simple interest (SI = P * R * T / 100)."
      ],
      "metadata": {
        "id": "dOpIpk6b5P-I"
      }
    },
    {
      "cell_type": "code",
      "source": [
        "def interest(P, R, T):\n",
        "    return ((P*R*T) / 100)\n",
        "print(f'The simple interest is = {interest(100, 30, 5)}')"
      ],
      "metadata": {
        "id": "cDOFJj5n5oAm",
        "colab": {
          "base_uri": "https://localhost:8080/"
        },
        "outputId": "3219c57b-fee5-413f-9054-3e7c165d5455"
      },
      "execution_count": 14,
      "outputs": [
        {
          "output_type": "stream",
          "name": "stdout",
          "text": [
            "The simple interest is = 150.0\n"
          ]
        }
      ]
    },
    {
      "cell_type": "markdown",
      "source": [
        "4. Write a function that accepts *args and prints the maximum value\n",
        "\n"
      ],
      "metadata": {
        "id": "teH4U6k15Y2l"
      }
    },
    {
      "cell_type": "code",
      "source": [
        "import math\n",
        "\n",
        "def maximum_value(*args):\n",
        "    maxi = -math.inf\n",
        "    for number in args:\n",
        "        if maxi < number:\n",
        "           maxi = number\n",
        "    return maxi\n",
        "\n",
        "print(maximum_value(10, 50, -3, 1))"
      ],
      "metadata": {
        "id": "ubD0NJE25wVg",
        "colab": {
          "base_uri": "https://localhost:8080/"
        },
        "outputId": "89569a9a-b0ae-469e-a1d4-b3f9f062ac2d"
      },
      "execution_count": 20,
      "outputs": [
        {
          "output_type": "stream",
          "name": "stdout",
          "text": [
            "50\n"
          ]
        }
      ]
    },
    {
      "cell_type": "markdown",
      "source": [
        "5. Use a lambda function to get the cube of a number."
      ],
      "metadata": {
        "id": "kz8ju1JO-A5P"
      }
    },
    {
      "cell_type": "code",
      "source": [
        "cube = lambda x: x ** 3\n",
        "print(cube(3))"
      ],
      "metadata": {
        "id": "auYphtar-Ego",
        "colab": {
          "base_uri": "https://localhost:8080/"
        },
        "outputId": "a318804d-e994-406d-ac6a-4f789aeff0ea"
      },
      "execution_count": 23,
      "outputs": [
        {
          "output_type": "stream",
          "name": "stdout",
          "text": [
            "27\n"
          ]
        }
      ]
    }
  ]
}