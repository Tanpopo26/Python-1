{
  "nbformat": 4,
  "nbformat_minor": 0,
  "metadata": {
    "colab": {
      "provenance": [],
      "authorship_tag": "ABX9TyOlRo7GtvLcfadk7xa5nhpi",
      "include_colab_link": true
    },
    "kernelspec": {
      "name": "python3",
      "display_name": "Python 3"
    },
    "language_info": {
      "name": "python"
    }
  },
  "cells": [
    {
      "cell_type": "markdown",
      "metadata": {
        "id": "view-in-github",
        "colab_type": "text"
      },
      "source": [
        "<a href=\"https://colab.research.google.com/github/Tanpopo26/Python-1/blob/main/Python_Day_8.ipynb\" target=\"_parent\"><img src=\"https://colab.research.google.com/assets/colab-badge.svg\" alt=\"Open In Colab\"/></a>"
      ]
    },
    {
      "cell_type": "code",
      "metadata": {
        "colab": {
          "base_uri": "https://localhost:8080/"
        },
        "id": "6d2da3fe",
        "outputId": "14958ef5-a5bd-46d0-b27d-84e87da8f4df"
      },
      "source": [
        "# 1. Function to calculate the product of two numbers\n",
        "def product(a, b):\n",
        "  \"\"\"Calculates the product of two numbers.\"\"\"\n",
        "  return a * b\n",
        "\n",
        "# 2. Function to check if a number is even or odd\n",
        "def is_even_or_odd(number):\n",
        "  \"\"\"Checks if a number is even or odd.\"\"\"\n",
        "  if number % 2 == 0:\n",
        "    return \"Even\"\n",
        "  else:\n",
        "    return \"Odd\"\n",
        "\n",
        "# 3. Function to calculate simple interest with a default parameter\n",
        "def simple_interest(principal, rate, time=1):\n",
        "  \"\"\"Calculates simple interest.\"\"\"\n",
        "  return (principal * rate * time) / 100\n",
        "\n",
        "# 4. Function that accepts *args and prints the maximum value\n",
        "def find_maximum(*args):\n",
        "  \"\"\"Finds the maximum value among the given arguments.\"\"\"\n",
        "  if not args:\n",
        "    print(\"No arguments provided.\")\n",
        "    return\n",
        "  print(\"Maximum value:\", max(args))\n",
        "\n",
        "# 5. Lambda function to get the cube of a number\n",
        "cube = lambda x: x**3\n",
        "\n",
        "# Example usage of the functions:\n",
        "print(\"Product of 5 and 3:\", product(5, 3))\n",
        "print(\"Is 10 even or odd:\", is_even_or_odd(10))\n",
        "print(\"Is 7 even or odd:\", is_even_or_odd(7))\n",
        "print(\"Simple interest for P=1000, R=5, T=2:\", simple_interest(1000, 5, 2))\n",
        "print(\"Simple interest for P=1000, R=5 (default T=1):\", simple_interest(1000, 5))\n",
        "find_maximum(10, 20, 5, 30)\n",
        "print(\"Cube of 4:\", cube(4))"
      ],
      "execution_count": 1,
      "outputs": [
        {
          "output_type": "stream",
          "name": "stdout",
          "text": [
            "Product of 5 and 3: 15\n",
            "Is 10 even or odd: Even\n",
            "Is 7 even or odd: Odd\n",
            "Simple interest for P=1000, R=5, T=2: 100.0\n",
            "Simple interest for P=1000, R=5 (default T=1): 50.0\n",
            "Maximum value: 30\n",
            "Cube of 4: 64\n"
          ]
        }
      ]
    },
    {
      "cell_type": "markdown",
      "source": [
        "1. Write a function that takes two numbers and returns their product."
      ],
      "metadata": {
        "id": "v3X4mTw-uF4S"
      }
    },
    {
      "cell_type": "code",
      "source": [
        "def product(a, b):\n",
        "  return a * b\n",
        "print(product(26, 23))"
      ],
      "metadata": {
        "colab": {
          "base_uri": "https://localhost:8080/"
        },
        "id": "Vj6K8aE4sOkH",
        "outputId": "5033ef0a-e88c-43ab-eb9d-acb9dfc9242c"
      },
      "execution_count": 4,
      "outputs": [
        {
          "output_type": "stream",
          "name": "stdout",
          "text": [
            "598\n"
          ]
        }
      ]
    },
    {
      "cell_type": "markdown",
      "source": [
        "2. Write a function to check if a number is even or odd"
      ],
      "metadata": {
        "id": "FDfp08jTuOgH"
      }
    },
    {
      "cell_type": "code",
      "source": [
        "def is_even_or_odd(number):\n",
        "  if number % 2 == 0:\n",
        "    return \"Even\"\n",
        "  else:\n",
        "    return \"Odd\"\n",
        "\n",
        "print(is_even_or_odd(33))"
      ],
      "metadata": {
        "colab": {
          "base_uri": "https://localhost:8080/"
        },
        "id": "KOPX2jGpuQMn",
        "outputId": "fe1db6bd-3f27-4dd4-f34b-77526c55e974"
      },
      "execution_count": 13,
      "outputs": [
        {
          "output_type": "stream",
          "name": "stdout",
          "text": [
            "Odd\n"
          ]
        }
      ]
    },
    {
      "cell_type": "markdown",
      "source": [
        "3. Create a function with a default parameter that calculates simple interest (SI = P * R * T / 100)."
      ],
      "metadata": {
        "id": "dOpIpk6b5P-I"
      }
    },
    {
      "cell_type": "code",
      "source": [],
      "metadata": {
        "id": "cDOFJj5n5oAm"
      },
      "execution_count": null,
      "outputs": []
    },
    {
      "cell_type": "markdown",
      "source": [
        "4. Write a function that accepts *args and prints the maximum value."
      ],
      "metadata": {
        "id": "teH4U6k15Y2l"
      }
    },
    {
      "cell_type": "code",
      "source": [],
      "metadata": {
        "id": "ubD0NJE25wVg"
      },
      "execution_count": null,
      "outputs": []
    },
    {
      "cell_type": "markdown",
      "source": [
        "5. Use a lambda function to get the cube of a number."
      ],
      "metadata": {
        "id": "kz8ju1JO-A5P"
      }
    },
    {
      "cell_type": "code",
      "source": [],
      "metadata": {
        "id": "auYphtar-Ego"
      },
      "execution_count": null,
      "outputs": []
    }
  ]
}