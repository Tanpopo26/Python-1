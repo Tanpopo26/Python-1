{
  "nbformat": 4,
  "nbformat_minor": 0,
  "metadata": {
    "colab": {
      "provenance": [],
      "authorship_tag": "ABX9TyNF3PFJ4E7MPdvXyWKjXHkB",
      "include_colab_link": true
    },
    "kernelspec": {
      "name": "python3",
      "display_name": "Python 3"
    },
    "language_info": {
      "name": "python"
    }
  },
  "cells": [
    {
      "cell_type": "markdown",
      "metadata": {
        "id": "view-in-github",
        "colab_type": "text"
      },
      "source": [
        "<a href=\"https://colab.research.google.com/github/Tanpopo26/Python-1/blob/main/Python_Day_6.ipynb\" target=\"_parent\"><img src=\"https://colab.research.google.com/assets/colab-badge.svg\" alt=\"Open In Colab\"/></a>"
      ]
    },
    {
      "cell_type": "markdown",
      "source": [
        "1. Write a program to check if a number is positive, negative, or zero."
      ],
      "metadata": {
        "id": "Ui-rlczvIYHO"
      }
    },
    {
      "cell_type": "code",
      "source": [
        "user_input = int(input(\"Enter any integer number: \"))\n",
        "if user_input > 0:\n",
        "  print(f\"Your number is '{user_input}'- a positive number\")\n",
        "elif user_input < 0:\n",
        "  print(f\"Your number is '{user_input}'- a negative number\")\n",
        "else:\n",
        "  print(f\"Your number is '{user_input}' - zero\")"
      ],
      "metadata": {
        "colab": {
          "base_uri": "https://localhost:8080/"
        },
        "id": "Ocylm3foIfVd",
        "outputId": "ff7d236a-2a0f-4c46-adf8-3cad7f111c48"
      },
      "execution_count": 3,
      "outputs": [
        {
          "output_type": "stream",
          "name": "stdout",
          "text": [
            "Enter any integer number: 0\n",
            "Your number is '0' - zero\n"
          ]
        }
      ]
    },
    {
      "cell_type": "markdown",
      "source": [
        "2. Take a number from the user and check if it is even or odd."
      ],
      "metadata": {
        "id": "O5UVZTwDIflc"
      }
    },
    {
      "cell_type": "code",
      "source": [
        "user_input = int(input(\"Enter any integer number: \"))\n",
        "if user_input % 2 == 0:\n",
        "  print(f\"{user_input} is even\")\n",
        "else:\n",
        "  print(f\"{user_input} is odd\")\n"
      ],
      "metadata": {
        "colab": {
          "base_uri": "https://localhost:8080/"
        },
        "id": "KEvvxHm9IjQm",
        "outputId": "a355c417-fa9c-4755-f6f2-ac483705b10b"
      },
      "execution_count": 4,
      "outputs": [
        {
          "output_type": "stream",
          "name": "stdout",
          "text": [
            "Enter any integer number: 55\n",
            "55 is odd\n"
          ]
        }
      ]
    },
    {
      "cell_type": "markdown",
      "source": [
        "3. Write a grading program that prints A, B, C, or F based on score."
      ],
      "metadata": {
        "id": "BMKpnbyLIjl1"
      }
    },
    {
      "cell_type": "code",
      "source": [
        "user_input = int(input(\"Enter score: \"))\n",
        "if user_input >= 80:\n",
        "  print(\"Grade A\")\n",
        "elif user_input >= 60:\n",
        "   print(\"Grade B\")\n",
        "elif user_input >= 40:\n",
        "   print(\"Grade C\")\n",
        "else:\n",
        "  print(\"Grade F\")"
      ],
      "metadata": {
        "colab": {
          "base_uri": "https://localhost:8080/"
        },
        "id": "cJ0V1HyYIpNF",
        "outputId": "7e0e28e4-33ed-41e2-c1d7-fe11b600dd75"
      },
      "execution_count": 11,
      "outputs": [
        {
          "output_type": "stream",
          "name": "stdout",
          "text": [
            "Enter score: 90\n",
            "Grade A\n"
          ]
        }
      ]
    },
    {
      "cell_type": "markdown",
      "source": [
        "4. Use a nested if to check if a number is divisible by 2 and 3"
      ],
      "metadata": {
        "id": "oQ7fYO7mIpgc"
      }
    },
    {
      "cell_type": "code",
      "source": [
        "user_input = int(input(\"Enter any integer number: \"))\n",
        "if user_input % 2 == 0:\n",
        "  print(f\"{user_input} is divisible by 2 = {user_input / 2}\")\n",
        "  if user_input % 3 == 0:\n",
        "    print(f\"{user_input} is divisible by both 2 and 3\")\n",
        "elif user_input % 3 == 0:\n",
        "  print(f\"{user_input} is divisble by only 3 = {user_input / 3}\")"
      ],
      "metadata": {
        "colab": {
          "base_uri": "https://localhost:8080/"
        },
        "id": "hTJ79S0RIukp",
        "outputId": "74ca87ba-dbac-4cfd-9b20-07cf9992f3ce"
      },
      "execution_count": 22,
      "outputs": [
        {
          "output_type": "stream",
          "name": "stdout",
          "text": [
            "Enter any integer number: 33\n",
            "33 is divisble by only 3 = 11.0\n"
          ]
        }
      ]
    },
    {
      "cell_type": "markdown",
      "source": [
        "5. Use a short-hand if to check if someone is an adult (age ≥ 18)."
      ],
      "metadata": {
        "id": "sV7KEP23Iu3t"
      }
    },
    {
      "cell_type": "code",
      "source": [
        "age = int(input(\"Enter an age: \"))\n",
        "print(\"Adult\") if age >= 18 else print(\"Child\")"
      ],
      "metadata": {
        "colab": {
          "base_uri": "https://localhost:8080/"
        },
        "id": "zq7HkiJFR_0_",
        "outputId": "49350617-9217-491c-8e74-b350b51fa310"
      },
      "execution_count": 25,
      "outputs": [
        {
          "output_type": "stream",
          "name": "stdout",
          "text": [
            "Enter an age: 23\n",
            "Adult\n"
          ]
        }
      ]
    }
  ]
}