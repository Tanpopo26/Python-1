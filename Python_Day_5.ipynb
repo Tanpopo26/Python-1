{
  "nbformat": 4,
  "nbformat_minor": 0,
  "metadata": {
    "colab": {
      "provenance": [],
      "authorship_tag": "ABX9TyNjzDy8w80IFVR5Phd7JQxn",
      "include_colab_link": true
    },
    "kernelspec": {
      "name": "python3",
      "display_name": "Python 3"
    },
    "language_info": {
      "name": "python"
    }
  },
  "cells": [
    {
      "cell_type": "markdown",
      "metadata": {
        "id": "view-in-github",
        "colab_type": "text"
      },
      "source": [
        "<a href=\"https://colab.research.google.com/github/Tanpopo26/Python-1/blob/main/Python_Day_5.ipynb\" target=\"_parent\"><img src=\"https://colab.research.google.com/assets/colab-badge.svg\" alt=\"Open In Colab\"/></a>"
      ]
    },
    {
      "cell_type": "markdown",
      "source": [
        "1. Create a list of 5 numbers and print the sum and average."
      ],
      "metadata": {
        "id": "p57WQZCNoC1q"
      }
    },
    {
      "cell_type": "code",
      "source": [],
      "metadata": {
        "id": "4HM8qVRVoJh6"
      },
      "execution_count": null,
      "outputs": []
    },
    {
      "cell_type": "markdown",
      "source": [],
      "metadata": {
        "id": "G9HGFD6joJuh"
      }
    },
    {
      "cell_type": "markdown",
      "source": [
        "2. Store 3 favorite colors in a tuple and print them"
      ],
      "metadata": {
        "id": "_nr34uFcoKPa"
      }
    },
    {
      "cell_type": "code",
      "source": [],
      "metadata": {
        "id": "tSKJVzpIoNeq"
      },
      "execution_count": null,
      "outputs": []
    },
    {
      "cell_type": "markdown",
      "source": [],
      "metadata": {
        "id": "P6oaBFGsoNz0"
      }
    },
    {
      "cell_type": "markdown",
      "source": [
        "3. Create a set of numbers and demonstrate union and intersection."
      ],
      "metadata": {
        "id": "FjPuVJiioOZR"
      }
    },
    {
      "cell_type": "code",
      "source": [],
      "metadata": {
        "id": "R7DFlyQ-oVVr"
      },
      "execution_count": null,
      "outputs": []
    },
    {
      "cell_type": "markdown",
      "source": [],
      "metadata": {
        "id": "tzr7jUXeoVek"
      }
    },
    {
      "cell_type": "markdown",
      "source": [
        "4. Make a dictionary with keys: name, age, city. Print values nicely."
      ],
      "metadata": {
        "id": "cvt3qTuSoV-P"
      }
    },
    {
      "cell_type": "code",
      "source": [],
      "metadata": {
        "id": "iY-yttGZocBq"
      },
      "execution_count": null,
      "outputs": []
    },
    {
      "cell_type": "markdown",
      "source": [],
      "metadata": {
        "id": "bMOvSusCocZy"
      }
    },
    {
      "cell_type": "markdown",
      "source": [
        "5. Update a dictionary to add a new key country"
      ],
      "metadata": {
        "id": "daWKKKaHoc8v"
      }
    }
  ]
}