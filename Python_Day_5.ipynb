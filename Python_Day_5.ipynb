{
  "nbformat": 4,
  "nbformat_minor": 0,
  "metadata": {
    "colab": {
      "provenance": [],
      "authorship_tag": "ABX9TyNdzv5MTvjRaizSl3KGImv4",
      "include_colab_link": true
    },
    "kernelspec": {
      "name": "python3",
      "display_name": "Python 3"
    },
    "language_info": {
      "name": "python"
    }
  },
  "cells": [
    {
      "cell_type": "markdown",
      "metadata": {
        "id": "view-in-github",
        "colab_type": "text"
      },
      "source": [
        "<a href=\"https://colab.research.google.com/github/Tanpopo26/Python-1/blob/main/Python_Day_5.ipynb\" target=\"_parent\"><img src=\"https://colab.research.google.com/assets/colab-badge.svg\" alt=\"Open In Colab\"/></a>"
      ]
    },
    {
      "cell_type": "markdown",
      "source": [
        "1. Create a list of 5 numbers and print the sum and average."
      ],
      "metadata": {
        "id": "jrupNdfZ43d8"
      }
    },
    {
      "cell_type": "code",
      "source": [
        "numbers = input(\"Enter 5 integer numbers here (use space): \")\n",
        "user_input_list = [int(num) for num in numbers.split()]\n",
        "print(f\"Your numbers' list' is: {user_input_list}\")\n",
        "print(f\"Sum of numbers: {sum(user_input_list)}\")\n",
        "print(f\"Average of numbers: {sum(user_input_list)/len(user_input_list)}\")"
      ],
      "metadata": {
        "colab": {
          "base_uri": "https://localhost:8080/"
        },
        "id": "TdbMkUQh4758",
        "outputId": "a0ecadfb-96ce-496f-8f87-559eb68792ab"
      },
      "execution_count": 5,
      "outputs": [
        {
          "output_type": "stream",
          "name": "stdout",
          "text": [
            "Enter 5 integer numbers here (use space): 4 3 5 6 9\n",
            "Your numbers' list' is: [4, 3, 5, 6, 9]\n",
            "Sum of numbers: 27\n",
            "Average of numbers: 5.4\n"
          ]
        }
      ]
    },
    {
      "cell_type": "markdown",
      "source": [
        "2. Store 3 favorite colors in a tuple and print them."
      ],
      "metadata": {
        "id": "f8ickJz9-_bv"
      }
    },
    {
      "cell_type": "code",
      "source": [
        "colors = input(\"Enter 3 favorite colors (use space): \")\n",
        "colors_list = colors.split()\n",
        "# For tuple(\"\"):\n",
        "colors_tuple = tuple(colors_list)\n",
        "print(f\"Your colors in a tuple is: {colors_tuple}\")\n",
        "# For list [\"\"]:\n",
        "print(f\"Your colors in a list is: {colors_list}\")"
      ],
      "metadata": {
        "colab": {
          "base_uri": "https://localhost:8080/"
        },
        "id": "Bh_42LKj_KwO",
        "outputId": "3b6148b5-fef5-48e0-b77d-31b590a9e6ed"
      },
      "execution_count": 16,
      "outputs": [
        {
          "output_type": "stream",
          "name": "stdout",
          "text": [
            "Enter 3 favorite colors (use space): red blue greeen\n",
            "Your colors in a tuple is: ('red', 'blue', 'greeen')\n",
            "Your colors in a list is: ['red', 'blue', 'greeen']\n"
          ]
        }
      ]
    },
    {
      "cell_type": "markdown",
      "source": [
        "3. Create a set of numbers and demonstrate union and intersection."
      ],
      "metadata": {
        "id": "OWgX2GluCGf1"
      }
    },
    {
      "cell_type": "code",
      "source": [
        "input_1 = input(\"Enter a set of 5 numbers without spaces: \")\n",
        "set_1 = set(input_1)\n",
        "print(f\"Your first set is: {set_1}\")\n",
        "input_2 = input(\"Enter a set of numbers without spaces: \")\n",
        "set_2 = set(input_2)\n",
        "print(f\"Your first set is: {set_2}\")\n",
        "print(f\"Union of set 1 and set 2: {set_1 | set_2}\")\n",
        "print(f\"Intersection of set 1 and set 2: {set_1 & set_2}\")"
      ],
      "metadata": {
        "colab": {
          "base_uri": "https://localhost:8080/"
        },
        "id": "WgJ4cPmGDwH1",
        "outputId": "fb31a840-776b-455b-8c54-e3dbeb1c824e"
      },
      "execution_count": 21,
      "outputs": [
        {
          "output_type": "stream",
          "name": "stdout",
          "text": [
            "Enter a set of 5 numbers without spaces: 12345\n",
            "Your first set is: {'2', '5', '3', '4', '1'}\n",
            "Enter a set of numbers with spaces: 678765\n",
            "Your first set is: {'8', '5', '6', '7'}\n",
            "Union of set 1 and set 2: {'2', '8', '5', '6', '3', '4', '7', '1'}\n",
            "Intersection of set 1 and set 2: {'5'}\n"
          ]
        }
      ]
    },
    {
      "cell_type": "code",
      "source": [
        "A = (16, 33, 26, 23, 1, 9)\n",
        "set_1 = set(A)\n",
        "B = (1, 10, 36, 16, 23, 27)\n",
        "set_2 = set(B)\n",
        "print(f\"Union of set_1 and set_2: {set_1 | set_2}\")\n",
        "print(f\"Intersection of set_1 and set_2: {set_1 & set_2}\")"
      ],
      "metadata": {
        "colab": {
          "base_uri": "https://localhost:8080/"
        },
        "id": "eFxkjNYWEsLH",
        "outputId": "a69fffd4-4d95-46f9-fbc0-1cf48c363faf"
      },
      "execution_count": 20,
      "outputs": [
        {
          "output_type": "stream",
          "name": "stdout",
          "text": [
            "Union of set_1 and set_2: {33, 1, 36, 9, 10, 16, 23, 26, 27}\n",
            "Intersection of set_1 and set_2: {16, 1, 23}\n"
          ]
        }
      ]
    }
  ]
}