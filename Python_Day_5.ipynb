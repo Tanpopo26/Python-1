{
  "nbformat": 4,
  "nbformat_minor": 0,
  "metadata": {
    "colab": {
      "provenance": [],
      "authorship_tag": "ABX9TyMnE9hn8aCNCEDiLUXYI4Hy",
      "include_colab_link": true
    },
    "kernelspec": {
      "name": "python3",
      "display_name": "Python 3"
    },
    "language_info": {
      "name": "python"
    }
  },
  "cells": [
    {
      "cell_type": "markdown",
      "metadata": {
        "id": "view-in-github",
        "colab_type": "text"
      },
      "source": [
        "<a href=\"https://colab.research.google.com/github/Tanpopo26/Python-1/blob/main/Python_Day_5.ipynb\" target=\"_parent\"><img src=\"https://colab.research.google.com/assets/colab-badge.svg\" alt=\"Open In Colab\"/></a>"
      ]
    },
    {
      "cell_type": "markdown",
      "source": [
        "1. Create a list of 5 numbers and print the sum and average."
      ],
      "metadata": {
        "id": "p57WQZCNoC1q"
      }
    },
    {
      "cell_type": "code",
      "source": [
        "number = input[(\"Input a list of numbers\")]\n",
        "print(sum(number))\n",
        "print(sum(number)/len(number))"
      ],
      "metadata": {
        "colab": {
          "base_uri": "https://localhost:8080/",
          "height": 176
        },
        "id": "4HM8qVRVoJh6",
        "outputId": "4baaaa02-58e0-4254-e5da-1faca55c2eb1"
      },
      "execution_count": 9,
      "outputs": [
        {
          "output_type": "error",
          "ename": "TypeError",
          "evalue": "'method' object is not subscriptable",
          "traceback": [
            "\u001b[0;31m---------------------------------------------------------------------------\u001b[0m",
            "\u001b[0;31mTypeError\u001b[0m                                 Traceback (most recent call last)",
            "\u001b[0;32m/tmp/ipython-input-488961740.py\u001b[0m in \u001b[0;36m<cell line: 0>\u001b[0;34m()\u001b[0m\n\u001b[0;32m----> 1\u001b[0;31m \u001b[0mnumber\u001b[0m \u001b[0;34m=\u001b[0m \u001b[0minput\u001b[0m\u001b[0;34m[\u001b[0m\u001b[0;34m(\u001b[0m\u001b[0;34m\"Input a list of numbers\"\u001b[0m\u001b[0;34m)\u001b[0m\u001b[0;34m]\u001b[0m\u001b[0;34m\u001b[0m\u001b[0;34m\u001b[0m\u001b[0m\n\u001b[0m\u001b[1;32m      2\u001b[0m \u001b[0mprint\u001b[0m\u001b[0;34m(\u001b[0m\u001b[0msum\u001b[0m\u001b[0;34m(\u001b[0m\u001b[0mnumber\u001b[0m\u001b[0;34m)\u001b[0m\u001b[0;34m)\u001b[0m\u001b[0;34m\u001b[0m\u001b[0;34m\u001b[0m\u001b[0m\n\u001b[1;32m      3\u001b[0m \u001b[0mprint\u001b[0m\u001b[0;34m(\u001b[0m\u001b[0msum\u001b[0m\u001b[0;34m(\u001b[0m\u001b[0mnumber\u001b[0m\u001b[0;34m)\u001b[0m\u001b[0;34m/\u001b[0m\u001b[0mlen\u001b[0m\u001b[0;34m(\u001b[0m\u001b[0mnumber\u001b[0m\u001b[0;34m)\u001b[0m\u001b[0;34m)\u001b[0m\u001b[0;34m\u001b[0m\u001b[0;34m\u001b[0m\u001b[0m\n",
            "\u001b[0;31mTypeError\u001b[0m: 'method' object is not subscriptable"
          ]
        }
      ]
    },
    {
      "cell_type": "markdown",
      "source": [],
      "metadata": {
        "id": "G9HGFD6joJuh"
      }
    },
    {
      "cell_type": "markdown",
      "source": [
        "2. Store 3 favorite colors in a tuple and print them"
      ],
      "metadata": {
        "id": "_nr34uFcoKPa"
      }
    },
    {
      "cell_type": "code",
      "source": [],
      "metadata": {
        "id": "tSKJVzpIoNeq"
      },
      "execution_count": null,
      "outputs": []
    },
    {
      "cell_type": "markdown",
      "source": [],
      "metadata": {
        "id": "P6oaBFGsoNz0"
      }
    },
    {
      "cell_type": "markdown",
      "source": [
        "3. Create a set of numbers and demonstrate union and intersection."
      ],
      "metadata": {
        "id": "FjPuVJiioOZR"
      }
    },
    {
      "cell_type": "code",
      "source": [],
      "metadata": {
        "id": "R7DFlyQ-oVVr"
      },
      "execution_count": null,
      "outputs": []
    },
    {
      "cell_type": "markdown",
      "source": [],
      "metadata": {
        "id": "tzr7jUXeoVek"
      }
    },
    {
      "cell_type": "markdown",
      "source": [
        "4. Make a dictionary with keys: name, age, city. Print values nicely."
      ],
      "metadata": {
        "id": "cvt3qTuSoV-P"
      }
    },
    {
      "cell_type": "code",
      "source": [],
      "metadata": {
        "id": "iY-yttGZocBq"
      },
      "execution_count": null,
      "outputs": []
    },
    {
      "cell_type": "markdown",
      "source": [],
      "metadata": {
        "id": "bMOvSusCocZy"
      }
    },
    {
      "cell_type": "markdown",
      "source": [
        "5. Update a dictionary to add a new key country"
      ],
      "metadata": {
        "id": "daWKKKaHoc8v"
      }
    }
  ]
}