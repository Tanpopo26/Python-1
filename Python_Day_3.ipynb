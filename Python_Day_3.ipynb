{
  "nbformat": 4,
  "nbformat_minor": 0,
  "metadata": {
    "colab": {
      "provenance": [],
      "authorship_tag": "ABX9TyMyUBvyHrHeFl1o1BSsfaVw",
      "include_colab_link": true
    },
    "kernelspec": {
      "name": "python3",
      "display_name": "Python 3"
    },
    "language_info": {
      "name": "python"
    }
  },
  "cells": [
    {
      "cell_type": "markdown",
      "metadata": {
        "id": "view-in-github",
        "colab_type": "text"
      },
      "source": [
        "<a href=\"https://colab.research.google.com/github/Tanpopo26/Python-1/blob/main/Python_Day_3.ipynb\" target=\"_parent\"><img src=\"https://colab.research.google.com/assets/colab-badge.svg\" alt=\"Open In Colab\"/></a>"
      ]
    },
    {
      "cell_type": "markdown",
      "source": [
        "1. Take two numbers from the user and perform all arithmetic operations."
      ],
      "metadata": {
        "id": "Fh2k0SCNqX8H"
      }
    },
    {
      "cell_type": "code",
      "source": [
        "x = int(input(\"Enter number 1: \"))\n",
        "y = int(input(\"Enter number 2: \"))\n",
        "# addition (+)\n",
        "print(\"1.\", x, \"+\", y, \"=\", x + y)\n",
        "# subtraction (-)\n",
        "print(\"2.\", x, \"-\", y, \"=\", x - y)\n",
        "# multiplication (*)\n",
        "print(\"3.\", x, \"x\", y, \"=\", x * y)\n",
        "# division (/)\n",
        "print(\"4.\", x, \"/\", y, \"=\", x / y)\n",
        "# floor division (//)\n",
        "print(\"5.\", x, \"//\", y, \"=\", x // y )\n",
        "# modulo (%)\n",
        "print(\"6.\", x, \"%\", y, \"=\", x % y)\n",
        "# power (**)\n",
        "print(\"7.\", x, \"^\", y, \"=\", x ** y)"
      ],
      "metadata": {
        "colab": {
          "base_uri": "https://localhost:8080/"
        },
        "id": "sazztsy3qhc3",
        "outputId": "97e2b7d4-69c3-4d88-a8bd-ac033807440d"
      },
      "execution_count": 9,
      "outputs": [
        {
          "output_type": "stream",
          "name": "stdout",
          "text": [
            "Enter number 1: 65\n",
            "Enter number 2: 45\n",
            "1. 65 + 45 = 110\n",
            "2. 65 - 45 = 20\n",
            "3. 65 x 45 = 2925\n",
            "4. 65 / 45 = 1.4444444444444444\n",
            "5. 65 // 45 = 1\n",
            "6. 65 % 45 = 20\n",
            "7. 65 ^ 45 = 3811544977260437410497448593732943628077956504628588163541280664503574371337890625\n"
          ]
        }
      ]
    },
    {
      "cell_type": "markdown",
      "source": [
        "2. Write a program to check if a number is greater than 100 and less than 200."
      ],
      "metadata": {
        "id": "3bpiFtpJvNrk"
      }
    },
    {
      "cell_type": "code",
      "source": [
        "user_input = int(input(\"Enter a value = \"))\n",
        "x = 100\n",
        "y = 200\n",
        "print(user_input, \"> 100 and\", user_input, \"< 200, so this is:\", user_input > x and user_input < y)"
      ],
      "metadata": {
        "id": "XlAyCgLNvUG_",
        "colab": {
          "base_uri": "https://localhost:8080/"
        },
        "outputId": "101a6d44-cdbe-442d-be61-5e7ec595e896"
      },
      "execution_count": 17,
      "outputs": [
        {
          "output_type": "stream",
          "name": "stdout",
          "text": [
            "Enter a value = 178\n",
            "178 > 100 and 178 < 200, so this is: True\n"
          ]
        }
      ]
    },
    {
      "cell_type": "markdown",
      "source": [
        "3. Demonstrate the use of and, or, and not with conditions.\n",
        "4. Check if the letter 'p' exists in the string 'Python'.\n",
        "5. Show the difference between is and == using two lists"
      ],
      "metadata": {
        "id": "HRMCJYL03juV"
      }
    },
    {
      "cell_type": "code",
      "source": [
        "x = 26\n",
        "y = 16\n",
        "print(x > y and y < x)\n",
        "print(x == y or x > y)\n",
        "print(not (x > y))"
      ],
      "metadata": {
        "colab": {
          "base_uri": "https://localhost:8080/"
        },
        "id": "Owm8MejX3zgx",
        "outputId": "54b1c6db-3de0-49f3-c6c8-de607ff6de0f"
      },
      "execution_count": 19,
      "outputs": [
        {
          "output_type": "stream",
          "name": "stdout",
          "text": [
            "True\n",
            "True\n",
            "True\n"
          ]
        }
      ]
    }
  ]
}